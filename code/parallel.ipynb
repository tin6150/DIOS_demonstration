{
 "cells": [
  {
   "cell_type": "markdown",
   "metadata": {},
   "source": [
    "## playing with parallelism\n"
   ]
  },
  {
   "cell_type": "code",
   "execution_count": 3,
   "metadata": {},
   "outputs": [
    {
     "name": "stdout",
     "output_type": "stream",
     "text": [
      "[1] 0\n"
     ]
    }
   ],
   "source": [
    "print(system('hostname'))"
   ]
  },
  {
   "cell_type": "code",
   "execution_count": 17,
   "metadata": {},
   "outputs": [
    {
     "name": "stdout",
     "output_type": "stream",
     "text": [
      "[1] \"e23d3172710a\"\n"
     ]
    }
   ],
   "source": [
    "print(system('hostname', intern=TRUE))\n"
   ]
  },
  {
   "cell_type": "code",
   "execution_count": 19,
   "metadata": {},
   "outputs": [
    {
     "name": "stdout",
     "output_type": "stream",
     "text": [
      "[1] \"detectCores\" \"16\"         \n"
     ]
    },
    {
     "ename": "ERROR",
     "evalue": "Error in loadNamespace(name): there is no package called ‘snow’\n",
     "output_type": "error",
     "traceback": [
      "Error in loadNamespace(name): there is no package called ‘snow’\nTraceback:\n",
      "1. makeCluster(NumThread, outfile = \"clus1.out\", type = \"SOCK\")",
      "2. snow::makeSOCKcluster",
      "3. getExportedValue(pkg, name)",
      "4. asNamespace(ns)",
      "5. getNamespace(ns)",
      "6. loadNamespace(name)",
      "7. withRestarts(stop(cond), retry_loadNamespace = function() NULL)",
      "8. withOneRestart(expr, restarts[[1L]])",
      "9. doWithOneRestart(return(expr), restart)"
     ]
    }
   ],
   "source": [
    "library(doParallel)\n",
    "\n",
    "\n",
    "NumThread = detectCores() ## return number of cores on machine\n",
    "print(c('detectCores', detectCores()))\n",
    "\n",
    "NumThread = 4\n",
    "\n",
    "\n",
    "clus1 = makeCluster( NumThread, outfile=\"clus1.out\", type = \"SOCK\" )   ## create a cluster object\n",
    "\n",
    "registerDoParallel(clus1)\n",
    "foreach(i=1:4) %dopar% \n",
    "    c(i, i^2)\n",
    "    # the %dopar% says to run the foreach loop in parallel for each item\n",
    "    # all console output inside cluster object will go to outfile \n",
    "    # there are eg combine=rbind to merge result\n",
    "\n",
    "stopCluster(clus1)\n",
    "\n"
   ]
  }
 ],
 "metadata": {
  "kernelspec": {
   "display_name": "R",
   "language": "R",
   "name": "ir"
  },
  "language_info": {
   "codemirror_mode": "r",
   "file_extension": ".r",
   "mimetype": "text/x-r-source",
   "name": "R",
   "pygments_lexer": "r",
   "version": "4.0.2"
  }
 },
 "nbformat": 4,
 "nbformat_minor": 4
}
