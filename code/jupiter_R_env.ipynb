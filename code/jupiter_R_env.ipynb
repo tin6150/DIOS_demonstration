{
 "cells": [
  {
   "cell_type": "code",
   "execution_count": 1,
   "metadata": {},
   "outputs": [
    {
     "name": "stderr",
     "output_type": "stream",
     "text": [
      "Warning message in library():\n",
      "“libraries ‘/usr/local/lib/R/site-library’, ‘/usr/lib/R/site-library’ contain no packages”\n"
     ]
    },
    {
     "data": {
      "text/plain": [
       "R packages available\n",
       "\n",
       "Packages in library ‘/home/tin/R/x86_64-pc-linux-gnu-library/3.4’:\n",
       "\n",
       "askpass                 Safe Password Entry for R, Git, and SSH\n",
       "assertthat              Easy Pre and Post Assertions\n",
       "backports               Reimplementations of Functions Introduced Since\n",
       "                        R-3.0.0\n",
       "base64enc               Tools for base64 encoding\n",
       "BH                      Boost C++ Header Files\n",
       "blob                    A Simple S3 Class for Representing Vectors of\n",
       "                        Binary Data ('BLOBS')\n",
       "broom                   Convert Statistical Objects into Tidy Tibbles\n",
       "callr                   Call R from R\n",
       "cellranger              Translate Spreadsheet Cell Ranges to Rows and\n",
       "                        Columns\n",
       "classInt                Choose Univariate Class Intervals\n",
       "cli                     Helpers for Developing Command Line Interfaces\n",
       "clipr                   Read and Write from the System Clipboard\n",
       "colorspace              A Toolbox for Manipulating and Assessing Colors\n",
       "                        and Palettes\n",
       "cpp11                   A C++11 Interface for R's C Interface\n",
       "crayon                  Colored Terminal Output\n",
       "DBI                     R Database Interface\n",
       "dbplyr                  A 'dplyr' Back End for Databases\n",
       "desc                    Manipulate DESCRIPTION Files\n",
       "digest                  Create Compact Hash Digests of R Objects\n",
       "doParallel              Foreach Parallel Adaptor for the 'parallel'\n",
       "                        Package\n",
       "dplyr                   A Grammar of Data Manipulation\n",
       "e1071                   Misc Functions of the Department of Statistics,\n",
       "                        Probability Theory Group (Formerly: E1071), TU\n",
       "                        Wien\n",
       "ellipsis                Tools for Working with ...\n",
       "evaluate                Parsing and Evaluation Tools that Provide More\n",
       "                        Details than the Default\n",
       "fansi                   ANSI Control Sequence Aware String Functions\n",
       "farver                  High Performance Colour Space Manipulation\n",
       "FNN                     Fast Nearest Neighbor Search Algorithms and\n",
       "                        Applications\n",
       "forcats                 Tools for Working with Categorical Variables\n",
       "                        (Factors)\n",
       "foreach                 Provides Foreach Looping Construct\n",
       "fs                      Cross-Platform File System Operations Based on\n",
       "                        'libuv'\n",
       "generics                Common S3 Generics not Provided by Base R\n",
       "                        Methods Related to Model Fitting\n",
       "ggplot2                 Create Elegant Data Visualisations Using the\n",
       "                        Grammar of Graphics\n",
       "glue                    Interpreted String Literals\n",
       "gtable                  Arrange 'Grobs' in Tables\n",
       "highr                   Syntax Highlighting for R Source Code\n",
       "hms                     Pretty Time of Day\n",
       "htmltools               Tools for HTML\n",
       "intervals               Tools for Working with Points and Intervals\n",
       "IRdisplay               'Jupyter' Display Machinery\n",
       "IRkernel                Native R Kernel for the 'Jupyter Notebook'\n",
       "isoband                 Generate Isolines and Isobands from Regularly\n",
       "                        Spaced Elevation Grids\n",
       "iterators               Provides Iterator Construct\n",
       "jsonlite                A Robust, High Performance JSON Parser and\n",
       "                        Generator for R\n",
       "knitr                   A General-Purpose Package for Dynamic Report\n",
       "                        Generation in R\n",
       "labeling                Axis Labeling\n",
       "lazyeval                Lazy (Non-Standard) Evaluation\n",
       "lifecycle               Manage the Life Cycle of your Package Functions\n",
       "lubridate               Make Dealing with Dates a Little Easier\n",
       "magrittr                A Forward-Pipe Operator for R\n",
       "maptools                Tools for Handling Spatial Objects\n",
       "markdown                Render Markdown with the C Library 'Sundown'\n",
       "mime                    Map Filenames to MIME Types\n",
       "modelr                  Modelling Functions that Work with the Pipe\n",
       "munsell                 Utilities for Using Munsell Colours\n",
       "openssl                 Toolkit for Encryption, Signatures and\n",
       "                        Certificates Based on OpenSSL\n",
       "pbdZMQ                  Programming with Big Data -- Interface to\n",
       "                        'ZeroMQ'\n",
       "pillar                  Coloured Formatting for Columns\n",
       "pkgbuild                Find Tools Needed to Build R Packages\n",
       "pkgconfig               Private Configuration for 'R' Packages\n",
       "pkgload                 Simulate Package Installation and Attach\n",
       "praise                  Praise Users\n",
       "prettyunits             Pretty, Human Readable Formatting of Quantities\n",
       "processx                Execute and Control System Processes\n",
       "progress                Terminal Progress Bars\n",
       "ps                      List, Query, Manipulate System Processes\n",
       "purrr                   Functional Programming Tools\n",
       "R6                      Encapsulated Classes with Reference Semantics\n",
       "rappdirs                Application Directories: Determine Where to\n",
       "                        Save Data, Caches, and Logs\n",
       "RColorBrewer            ColorBrewer Palettes\n",
       "Rcpp                    Seamless R and C++ Integration\n",
       "RcppParallel            Parallel Programming Tools for 'Rcpp'\n",
       "readr                   Read Rectangular Text Data\n",
       "readxl                  Read Excel Files\n",
       "rematch                 Match Regular Expressions with a Nicer 'API'\n",
       "repr                    Serializable Representations\n",
       "reprex                  Prepare Reproducible Example Code via the\n",
       "                        Clipboard\n",
       "rlang                   Functions for Base Types and Core R and\n",
       "                        'Tidyverse' Features\n",
       "rmarkdown               Dynamic Documents for R\n",
       "rprojroot               Finding Files in Project Subdirectories\n",
       "rstudioapi              Safely Access the RStudio API\n",
       "scales                  Scale Functions for Visualization\n",
       "selectr                 Translate CSS Selectors to XPath Expressions\n",
       "sp                      Classes and Methods for Spatial Data\n",
       "spacetime               Classes and Methods for Spatio-Temporal Data\n",
       "splancs                 Spatial and Space-Time Point Pattern Analysis\n",
       "stringi                 Character String Processing Facilities\n",
       "stringr                 Simple, Consistent Wrappers for Common String\n",
       "                        Operations\n",
       "sys                     Powerful and Reliable Tools for Running System\n",
       "                        Commands in R\n",
       "testthat                Unit Testing for R\n",
       "tibble                  Simple Data Frames\n",
       "tidyr                   Tidy Messy Data\n",
       "tidyselect              Select from a Set of Strings\n",
       "tinytex                 Helper Functions to Install and Maintain TeX\n",
       "                        Live, and Compile LaTeX Documents\n",
       "utf8                    Unicode Text Processing\n",
       "uuid                    Tools for Generating and Handling of UUIDs\n",
       "vctrs                   Vector Helpers\n",
       "viridisLite             Default Color Maps from 'matplotlib' (Lite\n",
       "                        Version)\n",
       "whisker                 {{mustache}} for R, Logicless Templating\n",
       "withr                   Run Code 'With' Temporarily Modified Global\n",
       "                        State\n",
       "xfun                    Miscellaneous Functions by 'Yihui Xie'\n",
       "xml2                    Parse XML\n",
       "xts                     eXtensible Time Series\n",
       "yaml                    Methods to Convert R Data to YAML and Back\n",
       "zoo                     S3 Infrastructure for Regular and Irregular\n",
       "                        Time Series (Z's Ordered Observations)\n",
       "\n",
       "Packages in library ‘/usr/lib/R/library’:\n",
       "\n",
       "base                    The R Base Package\n",
       "boot                    Bootstrap Functions (Originally by Angelo Canty\n",
       "                        for S)\n",
       "class                   Functions for Classification\n",
       "cluster                 \"Finding Groups in Data\": Cluster Analysis\n",
       "                        Extended Rousseeuw et al.\n",
       "codetools               Code Analysis Tools for R\n",
       "compiler                The R Compiler Package\n",
       "datasets                The R Datasets Package\n",
       "foreign                 Read Data Stored by 'Minitab', 'S', 'SAS',\n",
       "                        'SPSS', 'Stata', 'Systat', 'Weka', 'dBase', ...\n",
       "graphics                The R Graphics Package\n",
       "grDevices               The R Graphics Devices and Support for Colours\n",
       "                        and Fonts\n",
       "grid                    The Grid Graphics Package\n",
       "KernSmooth              Functions for Kernel Smoothing Supporting Wand\n",
       "                        & Jones (1995)\n",
       "lattice                 Trellis Graphics for R\n",
       "MASS                    Support Functions and Datasets for Venables and\n",
       "                        Ripley's MASS\n",
       "Matrix                  Sparse and Dense Matrix Classes and Methods\n",
       "methods                 Formal Methods and Classes\n",
       "mgcv                    Mixed GAM Computation Vehicle with Automatic\n",
       "                        Smoothness Estimation\n",
       "nlme                    Linear and Nonlinear Mixed Effects Models\n",
       "nnet                    Feed-Forward Neural Networks and Multinomial\n",
       "                        Log-Linear Models\n",
       "parallel                Support for Parallel computation in R\n",
       "rpart                   Recursive Partitioning and Regression Trees\n",
       "spatial                 Functions for Kriging and Point Pattern\n",
       "                        Analysis\n",
       "splines                 Regression Spline Functions and Classes\n",
       "stats                   The R Stats Package\n",
       "stats4                  Statistical Functions using S4 Classes\n",
       "survival                Survival Analysis\n",
       "tcltk                   Tcl/Tk Interface\n",
       "tools                   Tools for Package Development\n",
       "utils                   The R Utils Package"
      ]
     },
     "metadata": {},
     "output_type": "display_data"
    }
   ],
   "source": [
    "library()"
   ]
  },
  {
   "cell_type": "code",
   "execution_count": 2,
   "metadata": {},
   "outputs": [],
   "source": [
    "sI = sessionInfo()"
   ]
  },
  {
   "cell_type": "code",
   "execution_count": 3,
   "metadata": {},
   "outputs": [
    {
     "data": {
      "text/plain": [
       "R version 3.4.4 (2018-03-15)\n",
       "Platform: x86_64-pc-linux-gnu (64-bit)\n",
       "Running under: Linux Mint 19\n",
       "\n",
       "Matrix products: default\n",
       "BLAS: /usr/lib/x86_64-linux-gnu/blas/libblas.so.3.7.1\n",
       "LAPACK: /usr/lib/x86_64-linux-gnu/lapack/liblapack.so.3.7.1\n",
       "\n",
       "locale:\n",
       " [1] LC_CTYPE=en_US.UTF-8       LC_NUMERIC=C              \n",
       " [3] LC_TIME=en_US.UTF-8        LC_COLLATE=en_US.UTF-8    \n",
       " [5] LC_MONETARY=en_US.UTF-8    LC_MESSAGES=en_US.UTF-8   \n",
       " [7] LC_PAPER=en_US.UTF-8       LC_NAME=C                 \n",
       " [9] LC_ADDRESS=C               LC_TELEPHONE=C            \n",
       "[11] LC_MEASUREMENT=en_US.UTF-8 LC_IDENTIFICATION=C       \n",
       "\n",
       "attached base packages:\n",
       "[1] stats     graphics  grDevices utils     datasets  methods   base     \n",
       "\n",
       "loaded via a namespace (and not attached):\n",
       " [1] compiler_3.4.4  ellipsis_0.3.1  IRdisplay_0.7.0 pbdZMQ_0.3-3   \n",
       " [5] tools_3.4.4     htmltools_0.5.0 pillar_1.4.6    base64enc_0.1-3\n",
       " [9] crayon_1.3.4    uuid_0.1-4      IRkernel_1.1.1  jsonlite_1.7.0 \n",
       "[13] digest_0.6.25   lifecycle_0.2.0 repr_1.1.0      rlang_0.4.7    \n",
       "[17] evaluate_0.14  "
      ]
     },
     "metadata": {},
     "output_type": "display_data"
    }
   ],
   "source": [
    "sI"
   ]
  },
  {
   "cell_type": "code",
   "execution_count": 5,
   "metadata": {},
   "outputs": [],
   "source": [
    "OUT = system('id -a; hostname; pwd')"
   ]
  },
  {
   "cell_type": "code",
   "execution_count": 6,
   "metadata": {},
   "outputs": [
    {
     "data": {
      "text/html": [
       "0"
      ],
      "text/latex": [
       "0"
      ],
      "text/markdown": [
       "0"
      ],
      "text/plain": [
       "[1] 0"
      ]
     },
     "metadata": {},
     "output_type": "display_data"
    }
   ],
   "source": [
    "OUT"
   ]
  }
 ],
 "metadata": {
  "kernelspec": {
   "display_name": "R",
   "language": "R",
   "name": "ir"
  },
  "language_info": {
   "codemirror_mode": "r",
   "file_extension": ".r",
   "mimetype": "text/x-r-source",
   "name": "R",
   "pygments_lexer": "r",
   "version": "3.4.4"
  }
 },
 "nbformat": 4,
 "nbformat_minor": 4
}
